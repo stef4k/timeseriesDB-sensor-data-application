{
 "cells": [
  {
   "cell_type": "markdown",
   "id": "6e2ee219-d0c1-4115-9695-ccdeefe9a95a",
   "metadata": {},
   "source": [
    "# Data insertion notebook\n",
    "First we load the libraries"
   ]
  },
  {
   "cell_type": "code",
   "execution_count": 2,
   "id": "6aa55455-2014-4b6f-9ecf-68ebf153fa2f",
   "metadata": {},
   "outputs": [],
   "source": [
    "# Import necessary libraries\n",
    "import pandas as pd\n",
    "from sqlalchemy import create_engine\n",
    "import psycopg2\n",
    "import os"
   ]
  },
  {
   "cell_type": "markdown",
   "id": "0707a1a3-c821-480a-a2a3-bfcef834fd67",
   "metadata": {},
   "source": [
    "Function to connect to PostgreSQL:"
   ]
  },
  {
   "cell_type": "code",
   "execution_count": 4,
   "id": "cc1341aa-29a7-4a2d-a9b0-af338ff6cceb",
   "metadata": {},
   "outputs": [],
   "source": [
    "def create_postgres_engine(user, password, host, port, db_name):\n",
    "    \"\"\"Create a SQLAlchemy engine for PostgreSQL.\"\"\"\n",
    "    connection_string = f\"postgresql+psycopg2://{user}:{password}@{host}:{port}/{db_name}\"\n",
    "    engine = create_engine(connection_string)\n",
    "    return engine"
   ]
  },
  {
   "cell_type": "markdown",
   "id": "ffa13e0b-7d6d-4132-8323-e375ca957bb5",
   "metadata": {},
   "source": [
    "Database details:"
   ]
  },
  {
   "cell_type": "code",
   "execution_count": 6,
   "id": "ca1c3cdd-23b0-4c27-8b4b-22f6122860b1",
   "metadata": {},
   "outputs": [],
   "source": [
    "conn = psycopg2.connect(\n",
    "    dbname=\"glycemic\",\n",
    "    user=\"postgres\",\n",
    "    password=\"mysecretpassword\",\n",
    "    host=\"localhost\",\n",
    "    port=\"15432\"\n",
    ")\n",
    "\n",
    "cur = conn.cursor()\n"
   ]
  },
  {
   "cell_type": "markdown",
   "id": "bfdfbfc9-b1d6-4836-b5a4-527d8d159099",
   "metadata": {},
   "source": [
    "Load data into database:"
   ]
  },
  {
   "cell_type": "code",
   "execution_count": 8,
   "id": "845ca57c-7c30-40c0-b4bb-89c8c618e25d",
   "metadata": {},
   "outputs": [
    {
     "name": "stdout",
     "output_type": "stream",
     "text": [
      "Loading table accelerometer_data of 001\n",
      "Data loaded successfully!\n",
      "\n",
      "Loading table blood_volume_pulse of 001\n",
      "Data loaded successfully!\n",
      "\n",
      "Loading table interstitial_glucose of 001\n",
      "Data loaded successfully!\n",
      "\n",
      "Loading table electrodermal_activity of 001\n",
      "Data loaded successfully!\n",
      "\n",
      "Loading table food_log of 001\n",
      "Data loaded successfully!\n",
      "\n",
      "Loading table heart_rate_data of 001\n",
      "Data loaded successfully!\n",
      "\n",
      "Loading table ibi_data of 001\n",
      "Data loaded successfully!\n",
      "\n",
      "Loading table temperature_data of 001\n",
      "Data loaded successfully!\n",
      "\n",
      "Loading table accelerometer_data of 002\n",
      "Data loaded successfully!\n",
      "\n",
      "Loading table blood_volume_pulse of 002\n",
      "Data loaded successfully!\n",
      "\n",
      "Loading table interstitial_glucose of 002\n",
      "Data loaded successfully!\n",
      "\n",
      "Loading table electrodermal_activity of 002\n",
      "Data loaded successfully!\n",
      "\n",
      "Loading table food_log of 002\n",
      "Data loaded successfully!\n",
      "\n",
      "Loading table heart_rate_data of 002\n",
      "Data loaded successfully!\n",
      "\n",
      "Loading table ibi_data of 002\n",
      "Data loaded successfully!\n",
      "\n",
      "Loading table temperature_data of 002\n",
      "Data loaded successfully!\n",
      "\n"
     ]
    }
   ],
   "source": [
    "# Input all data folders that you wish to insert into the database\n",
    "csv_folders = ['001','002'] # e.g.['001','002','003']\n",
    "table_names = {\n",
    "    'ACC':'accelerometer_data',\n",
    "    'BVP':'blood_volume_pulse',\n",
    "    'Dexcom':'interstitial_glucose',\n",
    "    'EDA':'electrodermal_activity',\n",
    "    'Food_Log':'food_log',\n",
    "    'HR':'heart_rate_data',\n",
    "    'IBI':'ibi_data',\n",
    "    'TEMP':'temperature_data'\n",
    "}\n",
    "for current_csv_folder in csv_folders:\n",
    "    for csv_file in os.listdir(current_csv_folder):\n",
    "        if csv_file.endswith('.csv'):\n",
    "            # Find corresponding table name using dict\n",
    "            table_name = table_names[csv_file[:-8]]\n",
    "            \n",
    "            # Full path to the CSV file\n",
    "            csv_file_path = os.path.join(current_csv_folder, csv_file)\n",
    "            print(f\"Loading table {table_name} of {current_csv_folder}:\")\n",
    "            try:\n",
    "                with open(csv_file_path, 'r') as f:\n",
    "                    sql_command = f\"COPY {table_name} FROM STDIN WITH CSV HEADER\"\n",
    "                    cur.copy_expert(sql_command, f)\n",
    "                conn.commit()\n",
    "                print(\"Data loaded successfully!\\n\")\n",
    "            except Exception as e:\n",
    "                print(f\"Error: {e}\")\n",
    "                conn.rollback()"
   ]
  },
  {
   "cell_type": "markdown",
   "id": "5d77b71b-bfc7-4c26-b300-39f014b89263",
   "metadata": {},
   "source": [
    "Close connection:"
   ]
  },
  {
   "cell_type": "code",
   "execution_count": 10,
   "id": "5b8a7fd7-39c2-47ae-b86b-a3e8b6e2db8e",
   "metadata": {},
   "outputs": [],
   "source": [
    "cur.close()\n",
    "conn.close()"
   ]
  }
 ],
 "metadata": {
  "kernelspec": {
   "display_name": "Python 3 (ipykernel)",
   "language": "python",
   "name": "python3"
  },
  "language_info": {
   "codemirror_mode": {
    "name": "ipython",
    "version": 3
   },
   "file_extension": ".py",
   "mimetype": "text/x-python",
   "name": "python",
   "nbconvert_exporter": "python",
   "pygments_lexer": "ipython3",
   "version": "3.12.4"
  }
 },
 "nbformat": 4,
 "nbformat_minor": 5
}
