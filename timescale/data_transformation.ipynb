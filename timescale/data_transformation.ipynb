{
 "cells": [
  {
   "cell_type": "markdown",
   "id": "bb6f177f-8831-4efb-9123-1ebfb5ca488c",
   "metadata": {},
   "source": [
    "# Data transformation\n",
    "For each participant, there is no foreign key linking the participant to the specific file. This script iterates over the interested participants and specifically the csv files of `ACC`, `BVP`, `EDA` and\n",
    "`TEMP` and creates a new column linking the participant id to the timestamps:EMP"
   ]
  },
  {
   "cell_type": "code",
   "execution_count": 10,
   "id": "1b351541-1b8f-4677-813d-64ba9180b526",
   "metadata": {},
   "outputs": [],
   "source": [
    "import pandas as pd"
   ]
  },
  {
   "cell_type": "code",
   "execution_count": 29,
   "id": "a8e05284-be5b-4abc-bc69-3924fde1d558",
   "metadata": {
    "scrolled": true
   },
   "outputs": [
    {
     "name": "stdout",
     "output_type": "stream",
     "text": [
      "Loading from participant 001 file ACC:\n",
      "Successful saving of new file\n",
      "Loading from participant 001 file BVP:\n",
      "Successful saving of new file\n",
      "Loading from participant 001 file EDA:\n",
      "Successful saving of new file\n",
      "Loading from participant 001 file TEMP:\n",
      "Successful saving of new file\n",
      "Loading from participant 002 file ACC:\n",
      "Successful saving of new file\n",
      "Loading from participant 002 file BVP:\n",
      "Successful saving of new file\n",
      "Loading from participant 002 file EDA:\n",
      "Successful saving of new file\n",
      "Loading from participant 002 file TEMP:\n",
      "Successful saving of new file\n",
      "Loading from participant 003 file ACC:\n",
      "Successful saving of new file\n",
      "Loading from participant 003 file BVP:\n",
      "Successful saving of new file\n",
      "Loading from participant 003 file EDA:\n",
      "Successful saving of new file\n",
      "Loading from participant 003 file TEMP:\n",
      "Successful saving of new file\n",
      "Loading from participant 004 file ACC:\n",
      "Successful saving of new file\n",
      "Loading from participant 004 file BVP:\n",
      "Successful saving of new file\n",
      "Loading from participant 004 file EDA:\n",
      "Successful saving of new file\n",
      "Loading from participant 004 file TEMP:\n",
      "Successful saving of new file\n",
      "Loading from participant 005 file ACC:\n",
      "Successful saving of new file\n",
      "Loading from participant 005 file BVP:\n",
      "Successful saving of new file\n",
      "Loading from participant 005 file EDA:\n",
      "Successful saving of new file\n",
      "Loading from participant 005 file TEMP:\n",
      "Successful saving of new file\n",
      "Loading from participant 006 file ACC:\n",
      "Successful saving of new file\n",
      "Loading from participant 006 file BVP:\n",
      "Successful saving of new file\n",
      "Loading from participant 006 file EDA:\n",
      "Successful saving of new file\n",
      "Loading from participant 006 file TEMP:\n",
      "Successful saving of new file\n",
      "Loading from participant 007 file ACC:\n",
      "Successful saving of new file\n",
      "Loading from participant 007 file BVP:\n",
      "Successful saving of new file\n",
      "Loading from participant 007 file EDA:\n",
      "Successful saving of new file\n",
      "Loading from participant 007 file TEMP:\n",
      "Successful saving of new file\n",
      "Loading from participant 008 file ACC:\n",
      "Successful saving of new file\n",
      "Loading from participant 008 file BVP:\n",
      "Successful saving of new file\n",
      "Loading from participant 008 file EDA:\n",
      "Successful saving of new file\n",
      "Loading from participant 008 file TEMP:\n",
      "Successful saving of new file\n"
     ]
    }
   ],
   "source": [
    "interested_folders = ['001','002','003','004','005','006','007','008']\n",
    "file_names = ['ACC', 'BVP', 'EDA','TEMP']\n",
    "\n",
    "for participant in interested_folders:\n",
    "    for file in file_names:\n",
    "        print(f\"Loading from participant {participant} file {file}:\")\n",
    "        current_file_path = participant + '/' + file + '_' + participant + '.csv'\n",
    "        data = pd.read_csv(current_file_path)\n",
    "        data['participant_id'] = int(participant)\n",
    "        new_file_path = participant + '/' + file + '_' + participant + '_UPD.csv'\n",
    "        data.to_csv(new_file_path, index=False)\n",
    "        print(f\"Successful saving of new file\")"
   ]
  }
 ],
 "metadata": {
  "kernelspec": {
   "display_name": "Python 3 (ipykernel)",
   "language": "python",
   "name": "python3"
  },
  "language_info": {
   "codemirror_mode": {
    "name": "ipython",
    "version": 3
   },
   "file_extension": ".py",
   "mimetype": "text/x-python",
   "name": "python",
   "nbconvert_exporter": "python",
   "pygments_lexer": "ipython3",
   "version": "3.12.4"
  }
 },
 "nbformat": 4,
 "nbformat_minor": 5
}
