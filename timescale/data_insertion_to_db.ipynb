{
 "cells": [
  {
   "cell_type": "markdown",
   "id": "6e2ee219-d0c1-4115-9695-ccdeefe9a95a",
   "metadata": {},
   "source": [
    "# Data insertion notebook\n",
    "First we load the libraries"
   ]
  },
  {
   "cell_type": "code",
   "execution_count": 2,
   "id": "6aa55455-2014-4b6f-9ecf-68ebf153fa2f",
   "metadata": {},
   "outputs": [],
   "source": [
    "# Import necessary libraries\n",
    "import pandas as pd\n",
    "from sqlalchemy import create_engine\n",
    "import psycopg2\n",
    "import os\n",
    "import io"
   ]
  },
  {
   "cell_type": "markdown",
   "id": "0707a1a3-c821-480a-a2a3-bfcef834fd67",
   "metadata": {},
   "source": [
    "Function to connect to PostgreSQL:"
   ]
  },
  {
   "cell_type": "code",
   "execution_count": 4,
   "id": "cc1341aa-29a7-4a2d-a9b0-af338ff6cceb",
   "metadata": {},
   "outputs": [],
   "source": [
    "def create_postgres_engine(user, password, host, port, db_name):\n",
    "    \"\"\"Create a SQLAlchemy engine for PostgreSQL.\"\"\"\n",
    "    connection_string = f\"postgresql+psycopg2://{user}:{password}@{host}:{port}/{db_name}\"\n",
    "    engine = create_engine(connection_string)\n",
    "    return engine"
   ]
  },
  {
   "cell_type": "markdown",
   "id": "ffa13e0b-7d6d-4132-8323-e375ca957bb5",
   "metadata": {},
   "source": [
    "Database details:"
   ]
  },
  {
   "cell_type": "code",
   "execution_count": 6,
   "id": "ca1c3cdd-23b0-4c27-8b4b-22f6122860b1",
   "metadata": {},
   "outputs": [],
   "source": [
    "conn = psycopg2.connect(\n",
    "    dbname=\"glycemic\",\n",
    "    user=\"postgres\",\n",
    "    password=\"mysecretpassword\",\n",
    "    host=\"localhost\",\n",
    "    port=\"15432\"\n",
    ")\n",
    "\n",
    "cur = conn.cursor()"
   ]
  },
  {
   "cell_type": "markdown",
   "id": "bfdfbfc9-b1d6-4836-b5a4-527d8d159099",
   "metadata": {},
   "source": [
    "Load data into database, firstly the demographics file:"
   ]
  },
  {
   "cell_type": "code",
   "execution_count": 8,
   "id": "db8b3d10-016b-4342-be0a-745c02f7260b",
   "metadata": {
    "scrolled": true
   },
   "outputs": [
    {
     "name": "stdout",
     "output_type": "stream",
     "text": [
      "Data loaded successfully!\n",
      "\n"
     ]
    }
   ],
   "source": [
    "csv_file = 'Demographics.csv'  # Make sure this file is in the same folder\n",
    "table_name = 'demographics'\n",
    "csv_file_path = os.path.join('', csv_file)\n",
    "try:\n",
    "    with open(csv_file_path, 'r') as f:\n",
    "        sql_command = f\"COPY {table_name} FROM STDIN WITH CSV HEADER\"\n",
    "        cur.copy_expert(sql_command, f)\n",
    "    conn.commit()\n",
    "    print(\"Data loaded successfully!\\n\")\n",
    "except Exception as e:\n",
    "    print(f\"Error: {e}\")\n",
    "    conn.rollback()"
   ]
  },
  {
   "cell_type": "markdown",
   "id": "bc255c33-c29b-420d-94e8-a5d486d5fbc6",
   "metadata": {},
   "source": [
    "Now the various data folders that are declared in the first lines. This will take a while, since the data needs to be inserted in the database and the tables need to be updated to include the foreign key of participant_id (which is the name of the folder) as a new column\n",
    "\n",
    "This script loads all the specified files into the database:"
   ]
  },
  {
   "cell_type": "code",
   "execution_count": 10,
   "id": "64600ce8-952d-4660-ba75-de78e1d02e4a",
   "metadata": {},
   "outputs": [
    {
     "name": "stdout",
     "output_type": "stream",
     "text": [
      "Loading table temperature_data of 001:\n",
      "Data loaded successfully!\n",
      "\n"
     ]
    }
   ],
   "source": [
    "# Input all data folders that you wish to insert into the database\n",
    "csv_folders = ['001'] # e.g.['001','002','003']\n",
    "table_names = {\n",
    "    'ACC':'accelerometer_data',\n",
    "    'BVP':'blood_volume_pulse',\n",
    "    'Dexcom':'interstitial_glucose',\n",
    "    'EDA':'electrodermal_activity',\n",
    "    'Food_Log':'food_log',\n",
    "    'HR':'heart_rate_data',\n",
    "    'IBI':'ibi_data',\n",
    "    'TEMP':'temperature_data'\n",
    "}\n",
    "\n",
    "# Files we are interested\n",
    "interested_files = ['TEMP']#['ACC', 'BVP', 'EDA', 'TEMP']\n",
    "for current_csv_folder in csv_folders:\n",
    "    for csv_file in os.listdir(current_csv_folder):\n",
    "        if csv_file.endswith('.csv') and any(file in csv_file for file in interested_files):\n",
    "            table_name = table_names[csv_file[:-8]]            \n",
    "            # Full path to the CSV file\n",
    "            csv_file_path = os.path.join(current_csv_folder, csv_file)\n",
    "            print(f\"Loading table {table_name} of {current_csv_folder}:\")\n",
    "            try:\n",
    "                with open(csv_file_path, 'r') as f:                        \n",
    "                        sql_command_copy = f\"COPY {table_name} FROM STDIN WITH CSV HEADER NULL 'NULL'\"\n",
    "                        cur.copy_expert(sql_command_copy, f)\n",
    "                conn.commit()\n",
    "                print(\"Data loaded successfully!\\n\")\n",
    "            except Exception as e:\n",
    "                print(f\"Error: {e}\")\n",
    "                conn.rollback()"
   ]
  },
  {
   "cell_type": "markdown",
   "id": "8fe1b8a2-2de7-458e-940f-c33b5f3409b5",
   "metadata": {},
   "source": [
    "Enabling compression of the loaded data:"
   ]
  },
  {
   "cell_type": "code",
   "execution_count": 16,
   "id": "9ac7112a-da6c-4b4a-ab8f-f26c43996a9a",
   "metadata": {},
   "outputs": [
    {
     "name": "stdout",
     "output_type": "stream",
     "text": [
      "Compression was successful for table temperature_data!\n",
      "\n"
     ]
    }
   ],
   "source": [
    "for item in interested_files:\n",
    "    current_table = table_names[item]\n",
    "    try:                        \n",
    "        sql_command_compress = f\"SELECT add_compression_policy('{current_table}', INTERVAL '2 weeks')\"\n",
    "        cur.execute(sql_command_compress)\n",
    "        conn.commit()\n",
    "        print(f\"Compression was successful for table {current_table}!\\n\")\n",
    "    except Exception as e:\n",
    "        print(f\"Error: {e}\")\n",
    "        conn.rollback()"
   ]
  },
  {
   "cell_type": "markdown",
   "id": "5d77b71b-bfc7-4c26-b300-39f014b89263",
   "metadata": {},
   "source": [
    "Close connection:"
   ]
  },
  {
   "cell_type": "code",
   "execution_count": null,
   "id": "5b8a7fd7-39c2-47ae-b86b-a3e8b6e2db8e",
   "metadata": {},
   "outputs": [],
   "source": [
    "cur.close()\n",
    "conn.close()"
   ]
  },
  {
   "cell_type": "code",
   "execution_count": null,
   "id": "cc84b4f2-a722-4aa2-8756-013f283b02c0",
   "metadata": {},
   "outputs": [],
   "source": []
  }
 ],
 "metadata": {
  "kernelspec": {
   "display_name": "Python 3 (ipykernel)",
   "language": "python",
   "name": "python3"
  },
  "language_info": {
   "codemirror_mode": {
    "name": "ipython",
    "version": 3
   },
   "file_extension": ".py",
   "mimetype": "text/x-python",
   "name": "python",
   "nbconvert_exporter": "python",
   "pygments_lexer": "ipython3",
   "version": "3.12.4"
  }
 },
 "nbformat": 4,
 "nbformat_minor": 5
}
