{
 "cells": [
  {
   "cell_type": "markdown",
   "id": "6e2ee219-d0c1-4115-9695-ccdeefe9a95a",
   "metadata": {},
   "source": [
    "# Data insertion notebook\n",
    "First we load the libraries"
   ]
  },
  {
   "cell_type": "code",
   "execution_count": 6,
   "id": "6aa55455-2014-4b6f-9ecf-68ebf153fa2f",
   "metadata": {},
   "outputs": [],
   "source": [
    "# Import necessary libraries\n",
    "import pandas as pd\n",
    "from sqlalchemy import create_engine\n",
    "import psycopg2\n",
    "import os\n",
    "import io"
   ]
  },
  {
   "cell_type": "markdown",
   "id": "0707a1a3-c821-480a-a2a3-bfcef834fd67",
   "metadata": {},
   "source": [
    "Function to connect to PostgreSQL:"
   ]
  },
  {
   "cell_type": "code",
   "execution_count": 245,
   "id": "cc1341aa-29a7-4a2d-a9b0-af338ff6cceb",
   "metadata": {},
   "outputs": [],
   "source": [
    "def create_postgres_engine(user, password, host, port, db_name):\n",
    "    \"\"\"Create a SQLAlchemy engine for PostgreSQL.\"\"\"\n",
    "    connection_string = f\"postgresql+psycopg2://{user}:{password}@{host}:{port}/{db_name}\"\n",
    "    engine = create_engine(connection_string)\n",
    "    return engine"
   ]
  },
  {
   "cell_type": "markdown",
   "id": "ffa13e0b-7d6d-4132-8323-e375ca957bb5",
   "metadata": {},
   "source": [
    "Database details:"
   ]
  },
  {
   "cell_type": "code",
   "execution_count": 248,
   "id": "ca1c3cdd-23b0-4c27-8b4b-22f6122860b1",
   "metadata": {},
   "outputs": [],
   "source": [
    "conn = psycopg2.connect(\n",
    "    dbname=\"ex_db\",\n",
    "    user=\"postgres\",\n",
    "    password=\"password\",\n",
    "    host=\"localhost\",\n",
    "    port=\"15432\"\n",
    ")\n",
    "\n",
    "cur = conn.cursor()"
   ]
  },
  {
   "cell_type": "markdown",
   "id": "bfdfbfc9-b1d6-4836-b5a4-527d8d159099",
   "metadata": {},
   "source": [
    "Load data into database, firstly the demographics file:"
   ]
  },
  {
   "cell_type": "code",
   "execution_count": 251,
   "id": "db8b3d10-016b-4342-be0a-745c02f7260b",
   "metadata": {
    "scrolled": true
   },
   "outputs": [
    {
     "name": "stdout",
     "output_type": "stream",
     "text": [
      "Data loaded successfully!\n",
      "\n"
     ]
    }
   ],
   "source": [
    "csv_file = '/Users/nishantsushmakar/Documents/projects_ulb/timeseriesDB-sensor-data-application/Demographics.csv'  # Make sure this file is in the same folder\n",
    "table_name = 'demographics'\n",
    "csv_file_path = os.path.join('', csv_file)\n",
    "try:\n",
    "    with open(csv_file_path, 'r') as f:\n",
    "        sql_command = f\"COPY {table_name} FROM STDIN WITH CSV HEADER\"\n",
    "        cur.copy_expert(sql_command, f)\n",
    "    conn.commit()\n",
    "    print(\"Data loaded successfully!\\n\")\n",
    "except Exception as e:\n",
    "    print(f\"Error: {e}\")\n",
    "    conn.rollback()"
   ]
  },
  {
   "cell_type": "markdown",
   "id": "bc255c33-c29b-420d-94e8-a5d486d5fbc6",
   "metadata": {},
   "source": [
    "Now the various data folders that are declared in the first lines. This will take a while, since the data needs to be inserted in the database and the tables need to be updated to include the foreign key of participant_id (which is the name of the folder) as a new column\n",
    "\n",
    "This script loads all the specified files into the database:"
   ]
  },
  {
   "cell_type": "code",
   "execution_count": 253,
   "id": "64600ce8-952d-4660-ba75-de78e1d02e4a",
   "metadata": {},
   "outputs": [
    {
     "name": "stdout",
     "output_type": "stream",
     "text": [
      "accelerometer_data\n",
      "Loading table accelerometer_data of 001:\n",
      "Data loaded successfully!\n",
      "\n",
      "blood_volume_pulse\n",
      "Loading table blood_volume_pulse of 001:\n",
      "Data loaded successfully!\n",
      "\n",
      "electrodermal_activity\n",
      "Loading table electrodermal_activity of 001:\n",
      "Data loaded successfully!\n",
      "\n",
      "temperature_data\n",
      "Loading table temperature_data of 001:\n",
      "Data loaded successfully!\n",
      "\n",
      "accelerometer_data\n",
      "Loading table accelerometer_data of 002:\n",
      "Data loaded successfully!\n",
      "\n",
      "blood_volume_pulse\n",
      "Loading table blood_volume_pulse of 002:\n",
      "Data loaded successfully!\n",
      "\n",
      "electrodermal_activity\n",
      "Loading table electrodermal_activity of 002:\n",
      "Data loaded successfully!\n",
      "\n",
      "temperature_data\n",
      "Loading table temperature_data of 002:\n",
      "Data loaded successfully!\n",
      "\n"
     ]
    }
   ],
   "source": [
    "# Input all data folders that you wish to insert into the database\n",
    "csv_folders = ['/Users/nishantsushmakar/Documents/projects_ulb/timeseriesDB-sensor-data-application/001','/Users/nishantsushmakar/Documents/projects_ulb/timeseriesDB-sensor-data-application/002'] \n",
    "table_names = {\n",
    "    'ACC':'accelerometer_data',\n",
    "    'BVP':'blood_volume_pulse',\n",
    "    'Dexcom_new':'interstitial_glucose',\n",
    "    'EDA':'electrodermal_activity',\n",
    "    # 'Food_Log':'food_log',\n",
    "    'HR':'heart_rate_data',\n",
    "    'IBI':'ibi_data',\n",
    "    'TEMP':'temperature_data'\n",
    "}\n",
    "\n",
    "# Files we are interested\n",
    "interested_files = ['ACC','BVP','Dexcom_new', 'EDA','HR','IBI','TEMP']\n",
    "\n",
    "\n",
    "for current_csv_folder in csv_folders:\n",
    "    \n",
    "    \n",
    "    for csv_file in os.listdir(current_csv_folder):\n",
    "       \n",
    "        \n",
    "    \n",
    "        if csv_file.endswith('.csv') and any(file in csv_file for file in interested_files):\n",
    "\n",
    "            table_name = table_names[csv_file[:-8]]\n",
    "            \n",
    "            print(table_name)            \n",
    "            # Full path to the CSV file\n",
    "            csv_file_path = os.path.join(current_csv_folder, csv_file)\n",
    "\n",
    "            csv_folder = current_csv_folder[-3:]\n",
    "            \n",
    "            print(f\"Loading table {table_name} of {current_csv_folder}:\")\n",
    "            try:\n",
    "                with open(csv_file_path, 'r') as f:                        \n",
    "                        if int(current_csv_folder) == 1:\n",
    "                            sql_command_alter = f\"ALTER TABLE {table_name} ALTER COLUMN participant_id SET DEFAULT NULL\"\n",
    "                            cur.execute(sql_command_alter)\n",
    "                        sql_command_copy = f\"COPY {table_name} ({columns_names[table_name]}) FROM STDIN WITH CSV HEADER NULL 'NULL'\"\n",
    "                        cur.copy_expert(sql_command_copy, f)\n",
    "                        sql_command_update = f\"UPDATE {table_name} SET participant_id = {int(current_csv_folder)} WHERE participant_id IS NULL\"\n",
    "                        cur.execute(sql_command_update)\n",
    "                conn.commit()\n",
    "                print(\"Data loaded successfully!\\n\")\n",
    "            except Exception as e:\n",
    "                print(f\"Error: {e}\")\n",
    "                conn.rollback()"
   ]
  },
  {
   "cell_type": "markdown",
   "id": "5d77b71b-bfc7-4c26-b300-39f014b89263",
   "metadata": {},
   "source": [
    "Close connection:"
   ]
  },
  {
   "cell_type": "code",
   "execution_count": 6,
   "id": "5b8a7fd7-39c2-47ae-b86b-a3e8b6e2db8e",
   "metadata": {},
   "outputs": [],
   "source": [
    "cur.close()\n",
    "conn.close()"
   ]
  },
  {
   "cell_type": "code",
   "execution_count": 90,
   "id": "de39150f",
   "metadata": {},
   "outputs": [],
   "source": [
    "df = pd.read_csv('/Users/nishantsushmakar/Documents/projects_ulb/timeseriesDB-sensor-data-application/002/Dexcom_002.csv')"
   ]
  },
  {
   "cell_type": "code",
   "execution_count": 91,
   "id": "19e82dcf",
   "metadata": {},
   "outputs": [
    {
     "data": {
      "text/html": [
       "<div>\n",
       "<style scoped>\n",
       "    .dataframe tbody tr th:only-of-type {\n",
       "        vertical-align: middle;\n",
       "    }\n",
       "\n",
       "    .dataframe tbody tr th {\n",
       "        vertical-align: top;\n",
       "    }\n",
       "\n",
       "    .dataframe thead th {\n",
       "        text-align: right;\n",
       "    }\n",
       "</style>\n",
       "<table border=\"1\" class=\"dataframe\">\n",
       "  <thead>\n",
       "    <tr style=\"text-align: right;\">\n",
       "      <th></th>\n",
       "      <th>Index</th>\n",
       "      <th>Timestamp (YYYY-MM-DDThh:mm:ss)</th>\n",
       "      <th>Event Type</th>\n",
       "      <th>Event Subtype</th>\n",
       "      <th>Patient Info</th>\n",
       "      <th>Device Info</th>\n",
       "      <th>Source Device ID</th>\n",
       "      <th>Glucose Value (mg/dL)</th>\n",
       "      <th>Insulin Value (u)</th>\n",
       "      <th>Carb Value (grams)</th>\n",
       "      <th>Duration (hh:mm:ss)</th>\n",
       "      <th>Glucose Rate of Change (mg/dL/min)</th>\n",
       "      <th>Transmitter Time (Long Integer)</th>\n",
       "    </tr>\n",
       "  </thead>\n",
       "  <tbody>\n",
       "    <tr>\n",
       "      <th>0</th>\n",
       "      <td>1</td>\n",
       "      <td>NaN</td>\n",
       "      <td>FirstName</td>\n",
       "      <td>NaN</td>\n",
       "      <td>2019</td>\n",
       "      <td>NaN</td>\n",
       "      <td>NaN</td>\n",
       "      <td>NaN</td>\n",
       "      <td>NaN</td>\n",
       "      <td>NaN</td>\n",
       "      <td>NaN</td>\n",
       "      <td>NaN</td>\n",
       "      <td>NaN</td>\n",
       "    </tr>\n",
       "    <tr>\n",
       "      <th>1</th>\n",
       "      <td>2</td>\n",
       "      <td>NaN</td>\n",
       "      <td>LastName</td>\n",
       "      <td>NaN</td>\n",
       "      <td>002</td>\n",
       "      <td>NaN</td>\n",
       "      <td>NaN</td>\n",
       "      <td>NaN</td>\n",
       "      <td>NaN</td>\n",
       "      <td>NaN</td>\n",
       "      <td>NaN</td>\n",
       "      <td>NaN</td>\n",
       "      <td>NaN</td>\n",
       "    </tr>\n",
       "    <tr>\n",
       "      <th>2</th>\n",
       "      <td>3</td>\n",
       "      <td>NaN</td>\n",
       "      <td>PatientIdentifier</td>\n",
       "      <td>NaN</td>\n",
       "      <td>2019-002</td>\n",
       "      <td>NaN</td>\n",
       "      <td>NaN</td>\n",
       "      <td>NaN</td>\n",
       "      <td>NaN</td>\n",
       "      <td>NaN</td>\n",
       "      <td>NaN</td>\n",
       "      <td>NaN</td>\n",
       "      <td>NaN</td>\n",
       "    </tr>\n",
       "    <tr>\n",
       "      <th>3</th>\n",
       "      <td>4</td>\n",
       "      <td>NaN</td>\n",
       "      <td>DateOfBirth</td>\n",
       "      <td>NaN</td>\n",
       "      <td>1970-01-01</td>\n",
       "      <td>NaN</td>\n",
       "      <td>NaN</td>\n",
       "      <td>NaN</td>\n",
       "      <td>NaN</td>\n",
       "      <td>NaN</td>\n",
       "      <td>NaN</td>\n",
       "      <td>NaN</td>\n",
       "      <td>NaN</td>\n",
       "    </tr>\n",
       "    <tr>\n",
       "      <th>4</th>\n",
       "      <td>5</td>\n",
       "      <td>NaN</td>\n",
       "      <td>Device</td>\n",
       "      <td>NaN</td>\n",
       "      <td>NaN</td>\n",
       "      <td>Dexcom G6 Mobile App</td>\n",
       "      <td>Android G6</td>\n",
       "      <td>NaN</td>\n",
       "      <td>NaN</td>\n",
       "      <td>NaN</td>\n",
       "      <td>NaN</td>\n",
       "      <td>NaN</td>\n",
       "      <td>NaN</td>\n",
       "    </tr>\n",
       "  </tbody>\n",
       "</table>\n",
       "</div>"
      ],
      "text/plain": [
       "   Index Timestamp (YYYY-MM-DDThh:mm:ss)         Event Type Event Subtype  \\\n",
       "0      1                             NaN          FirstName           NaN   \n",
       "1      2                             NaN           LastName           NaN   \n",
       "2      3                             NaN  PatientIdentifier           NaN   \n",
       "3      4                             NaN        DateOfBirth           NaN   \n",
       "4      5                             NaN             Device           NaN   \n",
       "\n",
       "  Patient Info           Device Info Source Device ID  Glucose Value (mg/dL)  \\\n",
       "0         2019                   NaN              NaN                    NaN   \n",
       "1          002                   NaN              NaN                    NaN   \n",
       "2     2019-002                   NaN              NaN                    NaN   \n",
       "3   1970-01-01                   NaN              NaN                    NaN   \n",
       "4          NaN  Dexcom G6 Mobile App       Android G6                    NaN   \n",
       "\n",
       "   Insulin Value (u)  Carb Value (grams) Duration (hh:mm:ss)  \\\n",
       "0                NaN                 NaN                 NaN   \n",
       "1                NaN                 NaN                 NaN   \n",
       "2                NaN                 NaN                 NaN   \n",
       "3                NaN                 NaN                 NaN   \n",
       "4                NaN                 NaN                 NaN   \n",
       "\n",
       "   Glucose Rate of Change (mg/dL/min)  Transmitter Time (Long Integer)  \n",
       "0                                 NaN                              NaN  \n",
       "1                                 NaN                              NaN  \n",
       "2                                 NaN                              NaN  \n",
       "3                                 NaN                              NaN  \n",
       "4                                 NaN                              NaN  "
      ]
     },
     "execution_count": 91,
     "metadata": {},
     "output_type": "execute_result"
    }
   ],
   "source": [
    "df.head()"
   ]
  },
  {
   "cell_type": "code",
   "execution_count": 92,
   "id": "f5361211",
   "metadata": {},
   "outputs": [
    {
     "data": {
      "text/plain": [
       "Index                                    0\n",
       "Timestamp (YYYY-MM-DDThh:mm:ss)         12\n",
       "Event Type                               0\n",
       "Event Subtype                         2124\n",
       "Patient Info                          2127\n",
       "Device Info                           2130\n",
       "Source Device ID                         4\n",
       "Glucose Value (mg/dL)                    8\n",
       "Insulin Value (u)                     2131\n",
       "Carb Value (grams)                    2131\n",
       "Duration (hh:mm:ss)                   2130\n",
       "Glucose Rate of Change (mg/dL/min)    2129\n",
       "Transmitter Time (Long Integer)         12\n",
       "dtype: int64"
      ]
     },
     "execution_count": 92,
     "metadata": {},
     "output_type": "execute_result"
    }
   ],
   "source": [
    "df.isnull().sum()"
   ]
  },
  {
   "cell_type": "code",
   "execution_count": 93,
   "id": "299c15c1",
   "metadata": {},
   "outputs": [],
   "source": [
    "df = df.loc[12:,:]"
   ]
  },
  {
   "cell_type": "code",
   "execution_count": 94,
   "id": "33aa42dd",
   "metadata": {},
   "outputs": [],
   "source": [
    "df = df.reset_index(drop=True)"
   ]
  },
  {
   "cell_type": "code",
   "execution_count": 99,
   "id": "5cde9188",
   "metadata": {},
   "outputs": [],
   "source": [
    "df.to_csv('/Users/nishantsushmakar/Documents/projects_ulb/timeseriesDB-sensor-data-application/002/Dexcom_new_002.csv',index=False)"
   ]
  },
  {
   "cell_type": "code",
   "execution_count": 54,
   "id": "87e4678c",
   "metadata": {},
   "outputs": [
    {
     "data": {
      "text/plain": [
       "Index                                    0\n",
       "Timestamp (YYYY-MM-DDThh:mm:ss)          0\n",
       "Event Type                               0\n",
       "Event Subtype                         2561\n",
       "Patient Info                          2561\n",
       "Device Info                           2561\n",
       "Source Device ID                         0\n",
       "Glucose Value (mg/dL)                    0\n",
       "Insulin Value (u)                     2561\n",
       "Carb Value (grams)                    2561\n",
       "Duration (hh:mm:ss)                   2561\n",
       "Glucose Rate of Change (mg/dL/min)    2561\n",
       "Transmitter Time (Long Integer)          0\n",
       "dtype: int64"
      ]
     },
     "execution_count": 54,
     "metadata": {},
     "output_type": "execute_result"
    }
   ],
   "source": [
    "df.isnull().sum()"
   ]
  },
  {
   "cell_type": "code",
   "execution_count": 58,
   "id": "a29d77ed",
   "metadata": {},
   "outputs": [],
   "source": [
    "df = df.fillna(np.nan)"
   ]
  },
  {
   "cell_type": "code",
   "execution_count": 56,
   "id": "79aac16d",
   "metadata": {},
   "outputs": [],
   "source": [
    "import numpy as np"
   ]
  },
  {
   "cell_type": "code",
   "execution_count": 68,
   "id": "b2fc69d9",
   "metadata": {},
   "outputs": [
    {
     "data": {
      "text/plain": [
       "Index                                    0\n",
       "Timestamp (YYYY-MM-DDThh:mm:ss)          0\n",
       "Event Type                               0\n",
       "Event Subtype                         2561\n",
       "Patient Info                          2561\n",
       "Device Info                           2561\n",
       "Source Device ID                         0\n",
       "Glucose Value (mg/dL)                    0\n",
       "Insulin Value (u)                        0\n",
       "Carb Value (grams)                    2561\n",
       "Duration (hh:mm:ss)                   2561\n",
       "Glucose Rate of Change (mg/dL/min)    2561\n",
       "Transmitter Time (Long Integer)          0\n",
       "dtype: int64"
      ]
     },
     "execution_count": 68,
     "metadata": {},
     "output_type": "execute_result"
    }
   ],
   "source": [
    "df.isnull().sum()"
   ]
  },
  {
   "cell_type": "code",
   "execution_count": 95,
   "id": "6807c9be",
   "metadata": {},
   "outputs": [],
   "source": [
    "df['Insulin Value (u)'] = df['Insulin Value (u)'].fillna(-9999)"
   ]
  },
  {
   "cell_type": "code",
   "execution_count": 96,
   "id": "affdc144",
   "metadata": {},
   "outputs": [],
   "source": [
    "df['Carb Value (grams)'] = df['Carb Value (grams)'].fillna(-9999)"
   ]
  },
  {
   "cell_type": "code",
   "execution_count": 97,
   "id": "eb5393d7",
   "metadata": {},
   "outputs": [],
   "source": [
    "df['Glucose Rate of Change (mg/dL/min)'] = df['Glucose Rate of Change (mg/dL/min)'].fillna(-9999)\n"
   ]
  },
  {
   "cell_type": "code",
   "execution_count": 98,
   "id": "0b3acd25",
   "metadata": {},
   "outputs": [],
   "source": [
    "df['Duration (hh:mm:ss)'] = df['Duration (hh:mm:ss)'].fillna(\"00:00:00\")"
   ]
  },
  {
   "cell_type": "code",
   "execution_count": null,
   "id": "34a97a2c",
   "metadata": {},
   "outputs": [],
   "source": []
  },
  {
   "cell_type": "code",
   "execution_count": 73,
   "id": "8ac14b00",
   "metadata": {},
   "outputs": [],
   "source": [
    "df = pd.read_csv('/Users/nishantsushmakar/Documents/projects_ulb/timeseriesDB-sensor-data-application/001/Dexcom_new_001.csv')"
   ]
  },
  {
   "cell_type": "code",
   "execution_count": 85,
   "id": "b3ce7031",
   "metadata": {},
   "outputs": [
    {
     "data": {
      "text/plain": [
       "Index                                    0\n",
       "Timestamp (YYYY-MM-DDThh:mm:ss)          0\n",
       "Event Type                               0\n",
       "Event Subtype                         2561\n",
       "Patient Info                          2561\n",
       "Device Info                           2561\n",
       "Source Device ID                         0\n",
       "Glucose Value (mg/dL)                    0\n",
       "Insulin Value (u)                        0\n",
       "Carb Value (grams)                       0\n",
       "Duration (hh:mm:ss)                      0\n",
       "Glucose Rate of Change (mg/dL/min)       0\n",
       "Transmitter Time (Long Integer)          0\n",
       "dtype: int64"
      ]
     },
     "execution_count": 85,
     "metadata": {},
     "output_type": "execute_result"
    }
   ],
   "source": [
    "df.isnull().sum()"
   ]
  },
  {
   "cell_type": "code",
   "execution_count": 83,
   "id": "0a82b45c",
   "metadata": {},
   "outputs": [
    {
     "data": {
      "text/plain": [
       "Index                                   int64\n",
       "Timestamp (YYYY-MM-DDThh:mm:ss)        object\n",
       "Event Type                             object\n",
       "Event Subtype                         float64\n",
       "Patient Info                          float64\n",
       "Device Info                           float64\n",
       "Source Device ID                       object\n",
       "Glucose Value (mg/dL)                 float64\n",
       "Insulin Value (u)                     float64\n",
       "Carb Value (grams)                    float64\n",
       "Duration (hh:mm:ss)                   float64\n",
       "Glucose Rate of Change (mg/dL/min)    float64\n",
       "Transmitter Time (Long Integer)       float64\n",
       "dtype: object"
      ]
     },
     "execution_count": 83,
     "metadata": {},
     "output_type": "execute_result"
    }
   ],
   "source": [
    "df.dtypes"
   ]
  },
  {
   "cell_type": "code",
   "execution_count": null,
   "id": "5e30de1a",
   "metadata": {},
   "outputs": [],
   "source": [
    "df.loc"
   ]
  }
 ],
 "metadata": {
  "kernelspec": {
   "display_name": "timeenv",
   "language": "python",
   "name": "python3"
  },
  "language_info": {
   "codemirror_mode": {
    "name": "ipython",
    "version": 3
   },
   "file_extension": ".py",
   "mimetype": "text/x-python",
   "name": "python",
   "nbconvert_exporter": "python",
   "pygments_lexer": "ipython3",
   "version": "3.13.0"
  }
 },
 "nbformat": 4,
 "nbformat_minor": 5
}
